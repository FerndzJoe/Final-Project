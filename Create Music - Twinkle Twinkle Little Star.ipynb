{
 "cells": [
  {
   "cell_type": "code",
   "execution_count": null,
   "id": "2b4f746b",
   "metadata": {},
   "outputs": [],
   "source": [
    "from numpy import linspace, int16, zeros, pi, asarray, sin, concatenate, where, array, ndarray, repeat, log10\n",
    "from pylab import specgram, plot, subplot, title, xlabel, ylabel, grid, axis, xlim, ylim, pause\n",
    "from matplotlib import pyplot as plt\n",
    "from scipy.io import wavfile"
   ]
  },
  {
   "cell_type": "code",
   "execution_count": null,
   "id": "3869af8e",
   "metadata": {},
   "outputs": [],
   "source": [
    "def get_piano_notes():   \n",
    "    # White keys are in Uppercase and black keys (sharps) are in lowercase\n",
    "    octave = ['C', 'c', 'D', 'd', 'E', 'F', 'f', 'G', 'g', 'A', 'a', 'B'] \n",
    "    base_freq = 440 #Frequency of Note A4\n",
    "    \n",
    "    keys = array([x+str(y) for y in range(0,9) for x in octave])\n",
    "    \n",
    "    # Trim to standard 88 keys\n",
    "    start = where(keys == 'A0')[0][0]\n",
    "    end = where(keys == 'C8')[0][0]\n",
    "    keys = keys[start:end+1]\n",
    "\n",
    "    # use this formula to create the note frequency\n",
    "    note_freqs = dict(zip(keys, [2**((n+1-49)/12)*base_freq for n in range(len(keys))]))\n",
    "    note_freqs[''] = 0.0 # stop\n",
    "    \n",
    "    return note_freqs"
   ]
  },
  {
   "cell_type": "code",
   "execution_count": null,
   "id": "6fdeee3a",
   "metadata": {},
   "outputs": [],
   "source": [
    "# Call the function to create all the frequencies for the notes\n",
    "notes = get_piano_notes()"
   ]
  },
  {
   "cell_type": "code",
   "execution_count": null,
   "id": "bd06f1bc",
   "metadata": {},
   "outputs": [],
   "source": [
    "# get sine wave for the note\n",
    "\n",
    "def get_sine_wave(freq, duration, sample_rate=44000, amplitude=4096):\n",
    "    t = linspace(0, duration, int(sample_rate*duration)) # Time axis\n",
    "    wave = amplitude * sin(2* pi * freq * t)\n",
    "    return wave.astype(int16)"
   ]
  },
  {
   "cell_type": "code",
   "execution_count": null,
   "id": "41b6b6b7",
   "metadata": {},
   "outputs": [],
   "source": [
    "# Get middle C frequency\n",
    "frequency = notes['C4']\n",
    "frequency"
   ]
  },
  {
   "cell_type": "code",
   "execution_count": null,
   "id": "f569ba5d",
   "metadata": {},
   "outputs": [],
   "source": [
    "#We can get the sine wave of any given note by calling the sine wave function\n",
    "sine_wave = get_sine_wave(frequency, duration=2, amplitude=2048)\n",
    "sine_wave"
   ]
  },
  {
   "cell_type": "markdown",
   "id": "591803d9",
   "metadata": {},
   "source": [
    "## Let's create music\n",
    "\n",
    "### Music Piano Notes: Twinkle Twinkle Little Star\n",
    "\n",
    "#### Let's review the notes for one of the favorite children song\n",
    "I have included the piano note for each part of the song\n",
    "We will convert this to frequency and create the wave file\n",
    "\n",
    "> `Twin kle, twin kle, lit tle star.`\\\n",
    "> `C4#  C4#  G4#  G4#  A4# A4# G4#`\n",
    ">\n",
    "> `How   I   wond er   what you are.`\\\n",
    "> `F4#  F4#  F4#  F4#  D4#  D4# C4#`\n",
    ">\n",
    "> `Up   ab   ove  the  world so  high,`\\\n",
    "> `C4#  C4#  G4#  G4#   A4#  A4# G4#`\n",
    ">\n",
    "> `Like  a   dia  mond in    the sky.`\\\n",
    "> `F4#  F4#  F4#  F4#  D4#   D4# C4#`"
   ]
  },
  {
   "cell_type": "code",
   "execution_count": null,
   "id": "a014007b",
   "metadata": {},
   "outputs": [],
   "source": [
    "# We have two options. We can convert this into a list of strings as C4 or just C\n",
    "\n",
    "# Converting this into a list of strings, we get this:\n",
    "\n",
    "#twinkle_piano_notes = [\n",
    "#'C4 C4 G4 G4 A4 A4 G4',      # Twinkle, Twinkle Little Star\n",
    "#'F4 F4 E4 E4 D4 D4 C4',      # How I Wonder What You Are\n",
    "#'G4 G4 F4 F4 E4 E4 D4',      # Up Above The World So High\n",
    "#'G4 G4 F4 F4 E4 E4 D4',      # Like A Diamond In The Sky\n",
    "#'C4 C4 G4 G4 A4 A4 G4',      # Twinkle, Twinkle Little Star\n",
    "#'F4 F4 E4 E4 D4 D4 C4'       # How I Wonder What You Are\n",
    "#]"
   ]
  },
  {
   "cell_type": "code",
   "execution_count": null,
   "id": "3f9c7504",
   "metadata": {},
   "outputs": [],
   "source": [
    "# Converting this into a list of strings:\n",
    "# We can add 4# to each note when we convert it to a frequency\n",
    "\n",
    "twinkle_piano_notes = [\n",
    "'C C G G A A G',      # Twinkle, Twinkle Little Star\n",
    "'F F E E D D C',      # How I Wonder What You Are\n",
    "'G G F F E E D',      # Up Above The World So High\n",
    "'G G F F E E D',      # Like A Diamond In The Sky\n",
    "'C C G G A A G',      # Twinkle, Twinkle Little Star\n",
    "'F F E E D D C'       # How I Wonder What You Are\n",
    "]"
   ]
  },
  {
   "cell_type": "code",
   "execution_count": null,
   "id": "e6176dec",
   "metadata": {},
   "outputs": [],
   "source": [
    "# First convert the pinao notes into a list of notes\n",
    "twinkle_piano = []\n",
    "for x in twinkle_piano_notes: twinkle_piano.extend(x.split(' '))"
   ]
  },
  {
   "cell_type": "code",
   "execution_count": null,
   "id": "ee598790",
   "metadata": {},
   "outputs": [],
   "source": [
    "#Then convert each note into a frequency by getting the frequency from note_freq table\n",
    "#Adding #4 to each note so it converts to C4 for C\n",
    "twinkle_notes = [notes[t + '4'] for t in twinkle_piano]"
   ]
  },
  {
   "cell_type": "code",
   "execution_count": null,
   "id": "1a3883f5",
   "metadata": {},
   "outputs": [],
   "source": [
    "# Let's add a pause note at the end of each note\n",
    "# We can first zip both notes and zero to create the pair, then use ravel to flatten it to a list\n",
    "twinkle = array([[i, j] for i, j in zip(twinkle_notes, repeat(0.0,len(twinkle_notes)))]).ravel()\n",
    "\n",
    "# Let's print the note frequency for each one. We get :\n",
    "# C4 pause C4 pause C4 pause G4 pause G4 pause A4 pause A4 pause G4 to the original string noe = C4 C4 G4 G4 A4 A4 G4\n",
    "twinkle"
   ]
  },
  {
   "cell_type": "code",
   "execution_count": null,
   "id": "14885bf0",
   "metadata": {},
   "outputs": [],
   "source": [
    "# Now we have to pass this frequency to the \"get_sine_wave\" function to get the sine wave for each frequency\n",
    "# Let's pause a little extra at the end of each line. We know that each line has 7 notes\n",
    "# We added a pause note to each note. So let's pause after every 14th frequency for an extra 0.3 secs\n",
    "\n",
    "twinkle_sine_wave = [get_sine_wave(f, duration=0.6, amplitude=2048) if (i+1)%14==0 else\n",
    "                     get_sine_wave(f, duration=0.3, amplitude=4096) \n",
    "                     for i, f in enumerate(twinkle)\n",
    "                     ]\n",
    "\n",
    "# Now we need to concatenate the array so we can pass it to the scipy.wavfile to create the .wav file\n",
    "\n",
    "twinkle_wave = concatenate(twinkle_sine_wave)"
   ]
  },
  {
   "cell_type": "code",
   "execution_count": null,
   "id": "91564910",
   "metadata": {},
   "outputs": [],
   "source": [
    "# Let's create the wavefile. We want to pace this at a speed rate of 44000\n",
    "# After playing around with the rate parameter, we find that 44000 is the best rate for twinkle twinkle little star\n",
    "\n",
    "wavfile.write('twinkle.wav', rate=44000, data=twinkle_wave)"
   ]
  },
  {
   "cell_type": "code",
   "execution_count": null,
   "id": "068488e6",
   "metadata": {},
   "outputs": [],
   "source": [
    "# Now that we have written the file, let's read the file and plot the frequency\n",
    "\n",
    "(sample_rate, wave_data) = wavfile.read('twinkle.wav') # sample_rate = sampling frequency, wave_data = signal"
   ]
  },
  {
   "cell_type": "code",
   "execution_count": null,
   "id": "a0100e44",
   "metadata": {},
   "outputs": [],
   "source": [
    "# Let's plot wavfile to see the frequency data\n",
    "# As a reminder, we created the file with amplitude of 4096\n",
    "\n",
    "subplot(2,1,2)\n",
    "\n",
    "plot(wave_data)\n",
    "\n",
    "xlim([-50, 1000]); ylim([-4800,4800]) #limit it to the first few seconds only\n",
    "title('Plot the twinkle.wav frequency data')\n",
    "xlabel('Samples in time'); ylabel('Amplitude')\n",
    "\n",
    "grid(True) #let's include the grid as well"
   ]
  },
  {
   "cell_type": "code",
   "execution_count": null,
   "id": "3dbc7775",
   "metadata": {},
   "outputs": [],
   "source": [
    "# Let's review Joe's niece's sample music wave file\n",
    "(sample_rate, wave_data) = wavfile.read('sample_music.wav')"
   ]
  },
  {
   "cell_type": "code",
   "execution_count": null,
   "id": "532719d6",
   "metadata": {},
   "outputs": [],
   "source": [
    "plt.plot(wave_data)\n",
    "\n",
    "#plt.xlim([-20, 1000]); ylim([-200,250]) #limit it to the first few seconds only\n",
    "plt.title(\"Plot Joe's niece piano recital sample frequency data\")\n",
    "plt.xlabel('Samples in time'); ylabel('Amplitude')\n",
    "plt.grid(True) #let's include the grid as well\n",
    "plt.savefig('niece.png')"
   ]
  },
  {
   "cell_type": "code",
   "execution_count": null,
   "id": "83a7c6ad",
   "metadata": {},
   "outputs": [],
   "source": [
    "#Taking just the orange line to process the signal\n",
    "wave_data[:,1]"
   ]
  },
  {
   "cell_type": "code",
   "execution_count": null,
   "id": "85098f25",
   "metadata": {},
   "outputs": [],
   "source": [
    "import scipy.signal as signal\n",
    "frequencies, times, spectrogram = signal.spectrogram(wave_data[:,1], sample_rate,mode='psd')"
   ]
  },
  {
   "cell_type": "code",
   "execution_count": null,
   "id": "f6fd98e4",
   "metadata": {},
   "outputs": [],
   "source": [
    "spectrogram_dB = 10 * log10(spectrogram)"
   ]
  },
  {
   "cell_type": "code",
   "execution_count": null,
   "id": "fc144c0e",
   "metadata": {},
   "outputs": [],
   "source": [
    "plt.figure(figsize=(10,6))\n",
    "plt.pcolormesh(times,frequencies, spectrogram_dB,shading='auto')\n",
    "plt.colorbar(label='Power Spectral Density (dB / Hz)')\n",
    "plt.xlabel('Time (sec)')\n",
    "plt.ylabel('Frequency (Hz)')\n",
    "plt.title(\"Joe's niece piano recital\")\n",
    "plt.savefig('niece_psd.png')\n",
    "plt.show()"
   ]
  },
  {
   "cell_type": "code",
   "execution_count": null,
   "id": "7845fa23",
   "metadata": {},
   "outputs": [],
   "source": []
  }
 ],
 "metadata": {
  "kernelspec": {
   "display_name": "Python 3 (ipykernel)",
   "language": "python",
   "name": "python3"
  },
  "language_info": {
   "codemirror_mode": {
    "name": "ipython",
    "version": 3
   },
   "file_extension": ".py",
   "mimetype": "text/x-python",
   "name": "python",
   "nbconvert_exporter": "python",
   "pygments_lexer": "ipython3",
   "version": "3.10.11"
  }
 },
 "nbformat": 4,
 "nbformat_minor": 5
}
